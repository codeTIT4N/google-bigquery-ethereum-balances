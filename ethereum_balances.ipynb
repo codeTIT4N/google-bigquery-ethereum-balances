{
  "nbformat": 4,
  "nbformat_minor": 0,
  "metadata": {
    "colab": {
      "provenance": [],
      "authorship_tag": "ABX9TyM3Mast4WFRReO53wX/KLuJ",
      "include_colab_link": true
    },
    "kernelspec": {
      "name": "python3",
      "display_name": "Python 3"
    },
    "language_info": {
      "name": "python"
    }
  },
  "cells": [
    {
      "cell_type": "markdown",
      "metadata": {
        "id": "view-in-github",
        "colab_type": "text"
      },
      "source": [
        "<a href=\"https://colab.research.google.com/github/codeTIT4N/google-bigquery-ethereum-balances/blob/main/ethereum_balances.ipynb\" target=\"_parent\"><img src=\"https://colab.research.google.com/assets/colab-badge.svg\" alt=\"Open In Colab\"/></a>"
      ]
    },
    {
      "cell_type": "code",
      "source": [
        "import pandas\n",
        "\n",
        "project_id = 'bigquery-ethereum-bal' # replace with your project id\n",
        "\n",
        "# Get top 10 ethereum addresses with their balances in decending order\n",
        "df = pandas.io.gbq.read_gbq(\n",
        "    '''\n",
        "    SELECT *\n",
        "    FROM `bigquery-public-data.crypto_ethereum.balances`\n",
        "    ORDER BY eth_balance DESC\n",
        "    LIMIT 10\n",
        "    ''',\n",
        "    project_id = project_id, dialect = 'standard'\n",
        ")"
      ],
      "metadata": {
        "id": "45lR8qkvL4EE"
      },
      "execution_count": 41,
      "outputs": []
    },
    {
      "cell_type": "code",
      "source": [
        "# Top 10 richest addresses on ethreum\n",
        "df\n",
        "# note: These balances are in wei. 1 ether = 10^18 wei"
      ],
      "metadata": {
        "colab": {
          "base_uri": "https://localhost:8080/",
          "height": 363
        },
        "id": "mPbwaMm5MgRR",
        "outputId": "f68aa6cf-2cc5-48b1-c830-067e003448f7"
      },
      "execution_count": 42,
      "outputs": [
        {
          "output_type": "execute_result",
          "data": {
            "text/plain": [
              "                                      address  \\\n",
              "0  0x00000000219ab540356cbb839cbe05303d7705fa   \n",
              "1  0xc02aaa39b223fe8d0a0e5c4f27ead9083c756cc2   \n",
              "2  0xbe0eb53f46cd790cd13851d5eff43d12404d33e8   \n",
              "3  0xda9dfa130df4de4673b89022ee50ff26f6ea73cf   \n",
              "4  0x0716a17fbaee714f1e6ab0f9d59edbc5f09815c0   \n",
              "5  0xf977814e90da44bfa03b6295a0616a897441acec   \n",
              "6  0x8315177ab297ba92a06054ce80a67ed4dbd7ed3a   \n",
              "7  0x47ac0fb4f2d84898e4d9e7b4dab3c24507a6d503   \n",
              "8  0x61edcdf5bb737adffe5043706e7c5bb1f1a56eea   \n",
              "9  0xe92d1a43df510f82c66382592a047d288f85226f   \n",
              "\n",
              "                            eth_balance  \n",
              "0  16155287106802428144139100.000000000  \n",
              "1   3827217879104310329264999.000000000  \n",
              "2   1996008289413268335198349.000000000  \n",
              "3   1780839979118769395003802.000000000  \n",
              "4   1746037393895017987539780.000000000  \n",
              "5   1447742259492607554807940.000000000  \n",
              "6    838107943663529599553793.000000000  \n",
              "7    584999084790800685289559.000000000  \n",
              "8    479498954581340000000001.000000000  \n",
              "9    450118326010976663088772.000000000  "
            ],
            "text/html": [
              "\n",
              "  <div id=\"df-5f64a8be-44bb-4021-b9ab-227acf5b39fd\">\n",
              "    <div class=\"colab-df-container\">\n",
              "      <div>\n",
              "<style scoped>\n",
              "    .dataframe tbody tr th:only-of-type {\n",
              "        vertical-align: middle;\n",
              "    }\n",
              "\n",
              "    .dataframe tbody tr th {\n",
              "        vertical-align: top;\n",
              "    }\n",
              "\n",
              "    .dataframe thead th {\n",
              "        text-align: right;\n",
              "    }\n",
              "</style>\n",
              "<table border=\"1\" class=\"dataframe\">\n",
              "  <thead>\n",
              "    <tr style=\"text-align: right;\">\n",
              "      <th></th>\n",
              "      <th>address</th>\n",
              "      <th>eth_balance</th>\n",
              "    </tr>\n",
              "  </thead>\n",
              "  <tbody>\n",
              "    <tr>\n",
              "      <th>0</th>\n",
              "      <td>0x00000000219ab540356cbb839cbe05303d7705fa</td>\n",
              "      <td>16155287106802428144139100.000000000</td>\n",
              "    </tr>\n",
              "    <tr>\n",
              "      <th>1</th>\n",
              "      <td>0xc02aaa39b223fe8d0a0e5c4f27ead9083c756cc2</td>\n",
              "      <td>3827217879104310329264999.000000000</td>\n",
              "    </tr>\n",
              "    <tr>\n",
              "      <th>2</th>\n",
              "      <td>0xbe0eb53f46cd790cd13851d5eff43d12404d33e8</td>\n",
              "      <td>1996008289413268335198349.000000000</td>\n",
              "    </tr>\n",
              "    <tr>\n",
              "      <th>3</th>\n",
              "      <td>0xda9dfa130df4de4673b89022ee50ff26f6ea73cf</td>\n",
              "      <td>1780839979118769395003802.000000000</td>\n",
              "    </tr>\n",
              "    <tr>\n",
              "      <th>4</th>\n",
              "      <td>0x0716a17fbaee714f1e6ab0f9d59edbc5f09815c0</td>\n",
              "      <td>1746037393895017987539780.000000000</td>\n",
              "    </tr>\n",
              "    <tr>\n",
              "      <th>5</th>\n",
              "      <td>0xf977814e90da44bfa03b6295a0616a897441acec</td>\n",
              "      <td>1447742259492607554807940.000000000</td>\n",
              "    </tr>\n",
              "    <tr>\n",
              "      <th>6</th>\n",
              "      <td>0x8315177ab297ba92a06054ce80a67ed4dbd7ed3a</td>\n",
              "      <td>838107943663529599553793.000000000</td>\n",
              "    </tr>\n",
              "    <tr>\n",
              "      <th>7</th>\n",
              "      <td>0x47ac0fb4f2d84898e4d9e7b4dab3c24507a6d503</td>\n",
              "      <td>584999084790800685289559.000000000</td>\n",
              "    </tr>\n",
              "    <tr>\n",
              "      <th>8</th>\n",
              "      <td>0x61edcdf5bb737adffe5043706e7c5bb1f1a56eea</td>\n",
              "      <td>479498954581340000000001.000000000</td>\n",
              "    </tr>\n",
              "    <tr>\n",
              "      <th>9</th>\n",
              "      <td>0xe92d1a43df510f82c66382592a047d288f85226f</td>\n",
              "      <td>450118326010976663088772.000000000</td>\n",
              "    </tr>\n",
              "  </tbody>\n",
              "</table>\n",
              "</div>\n",
              "      <button class=\"colab-df-convert\" onclick=\"convertToInteractive('df-5f64a8be-44bb-4021-b9ab-227acf5b39fd')\"\n",
              "              title=\"Convert this dataframe to an interactive table.\"\n",
              "              style=\"display:none;\">\n",
              "        \n",
              "  <svg xmlns=\"http://www.w3.org/2000/svg\" height=\"24px\"viewBox=\"0 0 24 24\"\n",
              "       width=\"24px\">\n",
              "    <path d=\"M0 0h24v24H0V0z\" fill=\"none\"/>\n",
              "    <path d=\"M18.56 5.44l.94 2.06.94-2.06 2.06-.94-2.06-.94-.94-2.06-.94 2.06-2.06.94zm-11 1L8.5 8.5l.94-2.06 2.06-.94-2.06-.94L8.5 2.5l-.94 2.06-2.06.94zm10 10l.94 2.06.94-2.06 2.06-.94-2.06-.94-.94-2.06-.94 2.06-2.06.94z\"/><path d=\"M17.41 7.96l-1.37-1.37c-.4-.4-.92-.59-1.43-.59-.52 0-1.04.2-1.43.59L10.3 9.45l-7.72 7.72c-.78.78-.78 2.05 0 2.83L4 21.41c.39.39.9.59 1.41.59.51 0 1.02-.2 1.41-.59l7.78-7.78 2.81-2.81c.8-.78.8-2.07 0-2.86zM5.41 20L4 18.59l7.72-7.72 1.47 1.35L5.41 20z\"/>\n",
              "  </svg>\n",
              "      </button>\n",
              "      \n",
              "  <style>\n",
              "    .colab-df-container {\n",
              "      display:flex;\n",
              "      flex-wrap:wrap;\n",
              "      gap: 12px;\n",
              "    }\n",
              "\n",
              "    .colab-df-convert {\n",
              "      background-color: #E8F0FE;\n",
              "      border: none;\n",
              "      border-radius: 50%;\n",
              "      cursor: pointer;\n",
              "      display: none;\n",
              "      fill: #1967D2;\n",
              "      height: 32px;\n",
              "      padding: 0 0 0 0;\n",
              "      width: 32px;\n",
              "    }\n",
              "\n",
              "    .colab-df-convert:hover {\n",
              "      background-color: #E2EBFA;\n",
              "      box-shadow: 0px 1px 2px rgba(60, 64, 67, 0.3), 0px 1px 3px 1px rgba(60, 64, 67, 0.15);\n",
              "      fill: #174EA6;\n",
              "    }\n",
              "\n",
              "    [theme=dark] .colab-df-convert {\n",
              "      background-color: #3B4455;\n",
              "      fill: #D2E3FC;\n",
              "    }\n",
              "\n",
              "    [theme=dark] .colab-df-convert:hover {\n",
              "      background-color: #434B5C;\n",
              "      box-shadow: 0px 1px 3px 1px rgba(0, 0, 0, 0.15);\n",
              "      filter: drop-shadow(0px 1px 2px rgba(0, 0, 0, 0.3));\n",
              "      fill: #FFFFFF;\n",
              "    }\n",
              "  </style>\n",
              "\n",
              "      <script>\n",
              "        const buttonEl =\n",
              "          document.querySelector('#df-5f64a8be-44bb-4021-b9ab-227acf5b39fd button.colab-df-convert');\n",
              "        buttonEl.style.display =\n",
              "          google.colab.kernel.accessAllowed ? 'block' : 'none';\n",
              "\n",
              "        async function convertToInteractive(key) {\n",
              "          const element = document.querySelector('#df-5f64a8be-44bb-4021-b9ab-227acf5b39fd');\n",
              "          const dataTable =\n",
              "            await google.colab.kernel.invokeFunction('convertToInteractive',\n",
              "                                                     [key], {});\n",
              "          if (!dataTable) return;\n",
              "\n",
              "          const docLinkHtml = 'Like what you see? Visit the ' +\n",
              "            '<a target=\"_blank\" href=https://colab.research.google.com/notebooks/data_table.ipynb>data table notebook</a>'\n",
              "            + ' to learn more about interactive tables.';\n",
              "          element.innerHTML = '';\n",
              "          dataTable['output_type'] = 'display_data';\n",
              "          await google.colab.output.renderOutput(dataTable, element);\n",
              "          const docLink = document.createElement('div');\n",
              "          docLink.innerHTML = docLinkHtml;\n",
              "          element.appendChild(docLink);\n",
              "        }\n",
              "      </script>\n",
              "    </div>\n",
              "  </div>\n",
              "  "
            ]
          },
          "metadata": {},
          "execution_count": 42
        }
      ]
    },
    {
      "cell_type": "code",
      "source": [
        "# simple pie chart representing\n",
        "from matplotlib import pyplot as plt\n",
        "\n",
        "values = df['eth_balance'].tolist()\n",
        "labels = df['address'].tolist()\n",
        "\n",
        "plt.pie(values,labels=labels,explode=[0.1,0.2,0.2,0.2,0.2,0.2,0.2,0.2,0.2,0.2],startangle=180)\n",
        "\n",
        "plt.show()"
      ],
      "metadata": {
        "colab": {
          "base_uri": "https://localhost:8080/",
          "height": 256
        },
        "id": "TUn9nh42SiDX",
        "outputId": "de8d2426-3a69-4bb6-e610-b4a3e2173c3d"
      },
      "execution_count": 46,
      "outputs": [
        {
          "output_type": "display_data",
          "data": {
            "text/plain": [
              "<Figure size 432x288 with 1 Axes>"
            ],
            "image/png": "[encoded data removed]"
          },
          "metadata": {}
        }
      ]
    },
    {
      "cell_type": "code",
      "source": [
        "# convert ether balance to readable value\n",
        "df['eth_balance_ether'] = df['eth_balance']/1000000000000000000\n",
        "df"
      ],
      "metadata": {
        "colab": {
          "base_uri": "https://localhost:8080/",
          "height": 363
        },
        "id": "JTB8tblwVWZE",
        "outputId": "93b30c37-fa6e-4127-9523-999b7796a263"
      },
      "execution_count": 47,
      "outputs": [
        {
          "output_type": "execute_result",
          "data": {
            "text/plain": [
              "                                      address  \\\n",
              "0  0x00000000219ab540356cbb839cbe05303d7705fa   \n",
              "1  0xc02aaa39b223fe8d0a0e5c4f27ead9083c756cc2   \n",
              "2  0xbe0eb53f46cd790cd13851d5eff43d12404d33e8   \n",
              "3  0xda9dfa130df4de4673b89022ee50ff26f6ea73cf   \n",
              "4  0x0716a17fbaee714f1e6ab0f9d59edbc5f09815c0   \n",
              "5  0xf977814e90da44bfa03b6295a0616a897441acec   \n",
              "6  0x8315177ab297ba92a06054ce80a67ed4dbd7ed3a   \n",
              "7  0x47ac0fb4f2d84898e4d9e7b4dab3c24507a6d503   \n",
              "8  0x61edcdf5bb737adffe5043706e7c5bb1f1a56eea   \n",
              "9  0xe92d1a43df510f82c66382592a047d288f85226f   \n",
              "\n",
              "                            eth_balance           eth_balance_ether  \n",
              "0  16155287106802428144139100.000000000   16155287.1068024281441391  \n",
              "1   3827217879104310329264999.000000000  3827217.879104310329264999  \n",
              "2   1996008289413268335198349.000000000  1996008.289413268335198349  \n",
              "3   1780839979118769395003802.000000000  1780839.979118769395003802  \n",
              "4   1746037393895017987539780.000000000   1746037.39389501798753978  \n",
              "5   1447742259492607554807940.000000000   1447742.25949260755480794  \n",
              "6    838107943663529599553793.000000000   838107.943663529599553793  \n",
              "7    584999084790800685289559.000000000   584999.084790800685289559  \n",
              "8    479498954581340000000001.000000000   479498.954581340000000001  \n",
              "9    450118326010976663088772.000000000   450118.326010976663088772  "
            ],
            "text/html": [
              "\n",
              "  <div id=\"df-3f6645ca-55b9-496e-8832-f57415385d81\">\n",
              "    <div class=\"colab-df-container\">\n",
              "      <div>\n",
              "<style scoped>\n",
              "    .dataframe tbody tr th:only-of-type {\n",
              "        vertical-align: middle;\n",
              "    }\n",
              "\n",
              "    .dataframe tbody tr th {\n",
              "        vertical-align: top;\n",
              "    }\n",
              "\n",
              "    .dataframe thead th {\n",
              "        text-align: right;\n",
              "    }\n",
              "</style>\n",
              "<table border=\"1\" class=\"dataframe\">\n",
              "  <thead>\n",
              "    <tr style=\"text-align: right;\">\n",
              "      <th></th>\n",
              "      <th>address</th>\n",
              "      <th>eth_balance</th>\n",
              "      <th>eth_balance_ether</th>\n",
              "    </tr>\n",
              "  </thead>\n",
              "  <tbody>\n",
              "    <tr>\n",
              "      <th>0</th>\n",
              "      <td>0x00000000219ab540356cbb839cbe05303d7705fa</td>\n",
              "      <td>16155287106802428144139100.000000000</td>\n",
              "      <td>16155287.1068024281441391</td>\n",
              "    </tr>\n",
              "    <tr>\n",
              "      <th>1</th>\n",
              "      <td>0xc02aaa39b223fe8d0a0e5c4f27ead9083c756cc2</td>\n",
              "      <td>3827217879104310329264999.000000000</td>\n",
              "      <td>3827217.879104310329264999</td>\n",
              "    </tr>\n",
              "    <tr>\n",
              "      <th>2</th>\n",
              "      <td>0xbe0eb53f46cd790cd13851d5eff43d12404d33e8</td>\n",
              "      <td>1996008289413268335198349.000000000</td>\n",
              "      <td>1996008.289413268335198349</td>\n",
              "    </tr>\n",
              "    <tr>\n",
              "      <th>3</th>\n",
              "      <td>0xda9dfa130df4de4673b89022ee50ff26f6ea73cf</td>\n",
              "      <td>1780839979118769395003802.000000000</td>\n",
              "      <td>1780839.979118769395003802</td>\n",
              "    </tr>\n",
              "    <tr>\n",
              "      <th>4</th>\n",
              "      <td>0x0716a17fbaee714f1e6ab0f9d59edbc5f09815c0</td>\n",
              "      <td>1746037393895017987539780.000000000</td>\n",
              "      <td>1746037.39389501798753978</td>\n",
              "    </tr>\n",
              "    <tr>\n",
              "      <th>5</th>\n",
              "      <td>0xf977814e90da44bfa03b6295a0616a897441acec</td>\n",
              "      <td>1447742259492607554807940.000000000</td>\n",
              "      <td>1447742.25949260755480794</td>\n",
              "    </tr>\n",
              "    <tr>\n",
              "      <th>6</th>\n",
              "      <td>0x8315177ab297ba92a06054ce80a67ed4dbd7ed3a</td>\n",
              "      <td>838107943663529599553793.000000000</td>\n",
              "      <td>838107.943663529599553793</td>\n",
              "    </tr>\n",
              "    <tr>\n",
              "      <th>7</th>\n",
              "      <td>0x47ac0fb4f2d84898e4d9e7b4dab3c24507a6d503</td>\n",
              "      <td>584999084790800685289559.000000000</td>\n",
              "      <td>584999.084790800685289559</td>\n",
              "    </tr>\n",
              "    <tr>\n",
              "      <th>8</th>\n",
              "      <td>0x61edcdf5bb737adffe5043706e7c5bb1f1a56eea</td>\n",
              "      <td>479498954581340000000001.000000000</td>\n",
              "      <td>479498.954581340000000001</td>\n",
              "    </tr>\n",
              "    <tr>\n",
              "      <th>9</th>\n",
              "      <td>0xe92d1a43df510f82c66382592a047d288f85226f</td>\n",
              "      <td>450118326010976663088772.000000000</td>\n",
              "      <td>450118.326010976663088772</td>\n",
              "    </tr>\n",
              "  </tbody>\n",
              "</table>\n",
              "</div>\n",
              "      <button class=\"colab-df-convert\" onclick=\"convertToInteractive('df-3f6645ca-55b9-496e-8832-f57415385d81')\"\n",
              "              title=\"Convert this dataframe to an interactive table.\"\n",
              "              style=\"display:none;\">\n",
              "        \n",
              "  <svg xmlns=\"http://www.w3.org/2000/svg\" height=\"24px\"viewBox=\"0 0 24 24\"\n",
              "       width=\"24px\">\n",
              "    <path d=\"M0 0h24v24H0V0z\" fill=\"none\"/>\n",
              "    <path d=\"M18.56 5.44l.94 2.06.94-2.06 2.06-.94-2.06-.94-.94-2.06-.94 2.06-2.06.94zm-11 1L8.5 8.5l.94-2.06 2.06-.94-2.06-.94L8.5 2.5l-.94 2.06-2.06.94zm10 10l.94 2.06.94-2.06 2.06-.94-2.06-.94-.94-2.06-.94 2.06-2.06.94z\"/><path d=\"M17.41 7.96l-1.37-1.37c-.4-.4-.92-.59-1.43-.59-.52 0-1.04.2-1.43.59L10.3 9.45l-7.72 7.72c-.78.78-.78 2.05 0 2.83L4 21.41c.39.39.9.59 1.41.59.51 0 1.02-.2 1.41-.59l7.78-7.78 2.81-2.81c.8-.78.8-2.07 0-2.86zM5.41 20L4 18.59l7.72-7.72 1.47 1.35L5.41 20z\"/>\n",
              "  </svg>\n",
              "      </button>\n",
              "      \n",
              "  <style>\n",
              "    .colab-df-container {\n",
              "      display:flex;\n",
              "      flex-wrap:wrap;\n",
              "      gap: 12px;\n",
              "    }\n",
              "\n",
              "    .colab-df-convert {\n",
              "      background-color: #E8F0FE;\n",
              "      border: none;\n",
              "      border-radius: 50%;\n",
              "      cursor: pointer;\n",
              "      display: none;\n",
              "      fill: #1967D2;\n",
              "      height: 32px;\n",
              "      padding: 0 0 0 0;\n",
              "      width: 32px;\n",
              "    }\n",
              "\n",
              "    .colab-df-convert:hover {\n",
              "      background-color: #E2EBFA;\n",
              "      box-shadow: 0px 1px 2px rgba(60, 64, 67, 0.3), 0px 1px 3px 1px rgba(60, 64, 67, 0.15);\n",
              "      fill: #174EA6;\n",
              "    }\n",
              "\n",
              "    [theme=dark] .colab-df-convert {\n",
              "      background-color: #3B4455;\n",
              "      fill: #D2E3FC;\n",
              "    }\n",
              "\n",
              "    [theme=dark] .colab-df-convert:hover {\n",
              "      background-color: #434B5C;\n",
              "      box-shadow: 0px 1px 3px 1px rgba(0, 0, 0, 0.15);\n",
              "      filter: drop-shadow(0px 1px 2px rgba(0, 0, 0, 0.3));\n",
              "      fill: #FFFFFF;\n",
              "    }\n",
              "  </style>\n",
              "\n",
              "      <script>\n",
              "        const buttonEl =\n",
              "          document.querySelector('#df-3f6645ca-55b9-496e-8832-f57415385d81 button.colab-df-convert');\n",
              "        buttonEl.style.display =\n",
              "          google.colab.kernel.accessAllowed ? 'block' : 'none';\n",
              "\n",
              "        async function convertToInteractive(key) {\n",
              "          const element = document.querySelector('#df-3f6645ca-55b9-496e-8832-f57415385d81');\n",
              "          const dataTable =\n",
              "            await google.colab.kernel.invokeFunction('convertToInteractive',\n",
              "                                                     [key], {});\n",
              "          if (!dataTable) return;\n",
              "\n",
              "          const docLinkHtml = 'Like what you see? Visit the ' +\n",
              "            '<a target=\"_blank\" href=https://colab.research.google.com/notebooks/data_table.ipynb>data table notebook</a>'\n",
              "            + ' to learn more about interactive tables.';\n",
              "          element.innerHTML = '';\n",
              "          dataTable['output_type'] = 'display_data';\n",
              "          await google.colab.output.renderOutput(dataTable, element);\n",
              "          const docLink = document.createElement('div');\n",
              "          docLink.innerHTML = docLinkHtml;\n",
              "          element.appendChild(docLink);\n",
              "        }\n",
              "      </script>\n",
              "    </div>\n",
              "  </div>\n",
              "  "
            ]
          },
          "metadata": {},
          "execution_count": 47
        }
      ]
    },
    {
      "cell_type": "code",
      "source": [
        "# how much ether does all the top 10 richest addresses own\n",
        "df['eth_balance_ether'].sum()"
      ],
      "metadata": {
        "colab": {
          "base_uri": "https://localhost:8080/"
        },
        "id": "pZpDpuQlWYfR",
        "outputId": "4316aed1-fcf7-4657-ed44-77d6370ace3b"
      },
      "execution_count": 48,
      "outputs": [
        {
          "output_type": "execute_result",
          "data": {
            "text/plain": [
              "Decimal('29305857.216873048693886095')"
            ]
          },
          "metadata": {},
          "execution_count": 48
        }
      ]
    },
    {
      "cell_type": "code",
      "source": [
        "pip install num2words\n"
      ],
      "metadata": {
        "colab": {
          "base_uri": "https://localhost:8080/"
        },
        "id": "INc95blRXLy-",
        "outputId": "8d441b54-246b-40fa-f4d8-87f881d562a7"
      },
      "execution_count": 49,
      "outputs": [
        {
          "output_type": "stream",
          "name": "stdout",
          "text": [
            "Looking in indexes: https://pypi.org/simple, https://us-python.pkg.dev/colab-wheels/public/simple/\n",
            "Requirement already satisfied: num2words in /usr/local/lib/python3.8/dist-packages (0.5.12)\n",
            "Requirement already satisfied: docopt>=0.6.2 in /usr/local/lib/python3.8/dist-packages (from num2words) (0.6.2)\n"
          ]
        }
      ]
    },
    {
      "cell_type": "code",
      "source": [
        "# total ether owned by top 10 addresses in words\n",
        "from num2words import num2words\n",
        "\n",
        "num2words(df['eth_balance_ether'].sum())"
      ],
      "metadata": {
        "colab": {
          "base_uri": "https://localhost:8080/",
          "height": 53
        },
        "id": "gEAXpTQXXQUx",
        "outputId": "e30de2b6-c804-422c-cb3c-ab6c04864f79"
      },
      "execution_count": 50,
      "outputs": [
        {
          "output_type": "execute_result",
          "data": {
            "text/plain": [
              "'twenty-nine million, three hundred and five thousand, eight hundred and fifty-seven point two one six eight seven three zero four'"
            ],
            "application/vnd.google.colaboratory.intrinsic+json": {
              "type": "string"
            }
          },
          "metadata": {},
          "execution_count": 50
        }
      ]
    }
  ]
}